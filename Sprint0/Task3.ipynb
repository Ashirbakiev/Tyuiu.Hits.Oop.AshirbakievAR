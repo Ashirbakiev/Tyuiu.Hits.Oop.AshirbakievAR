{
 "cells": [
  {
   "cell_type": "markdown",
   "metadata": {},
   "source": [
    "<h1 style=\"color:DodgerBlue\">Индивидальный проект</h1>"
   ]
  },
  {
   "cell_type": "markdown",
   "metadata": {},
   "source": [
    "<h2 style=\"color:DodgerBlue\">Название проекта:</h2>\n",
    "\n",
    "----\n",
    "\n",
    "### Вариант задания 2\n"
   ]
  },
  {
   "cell_type": "markdown",
   "metadata": {},
   "source": [
    "<h2 style=\"color:DodgerBlue\">Описание проекта:</h2>\n",
    "\n",
    "----\n",
    "\n",
    "<b>Описание задачи:</b>\n",
    "Создать базовый класс Student в C#, который будет представлять информацию о\n",
    "студентах. На основе этого класса разработать 2-3 производных класса,\n",
    "демонстрирующих принципы наследования и полиморфизма. В каждом из классов\n",
    "должны быть реализованы новые атрибуты и методы, а также переопределены\n",
    "некоторые методы базового класса для демонстрации полиморфизма.\n",
    "\n",
    "<b>Требования к базовому классу Student:</b><br>\n",
    "• Атрибуты: Имя (Name), Возраст (Age), Курс (Course).<br>\n",
    "• Методы:\n",
    "o GetInfo(): метод для получения информации о студенте в виде строки.\n",
    "o Study(): метод для вывода сообщения о том, что студент учится.\n",
    "o TakeExam(): метод для вывода сообщения о сдаче экзамена.\n",
    "<b>Требования к производным классам:</b>\n",
    "1. Студент бакалавриата (BachelorStudent): Должен содержать дополнительные\n",
    "атрибуты, такие как Специальность (Specialty). Метод Study() должен быть\n",
    "переопределен для добавления информации о специальности при изучении\n",
    "предмета.\n",
    "2. Студент магистратуры (MasterStudent): Должен содержать дополнительные\n",
    "атрибуты, такие как Научный руководитель (ScientificAdvisor).\n",
    "Метод TakeExam() должен быть переопределен для добавления\n",
    "информации о научном руководителе при сдаче экзамена.\n",
    "3. Аспирант (PhDStudent) (если требуется третий класс): Должен содержать\n",
    "дополнительные атрибуты, такие как Тема диссертации (DissertationTopic).\n",
    "Метод Study() должен быть переопределен для добавления информации о\n",
    "теме диссертации при изучении предмета.\n",
    "\n"
   ]
  },
  {
   "cell_type": "markdown",
   "metadata": {},
   "source": [
    "<h2 style=\"color:DodgerBlue\">Реализация:</h2>\n",
    "\n",
    "----"
   ]
  },
  {
   "cell_type": "code",
   "execution_count": 2,
   "metadata": {
    "dotnet_interactive": {
     "language": "csharp"
    },
    "polyglot_notebook": {
     "kernelName": "csharp"
    }
   },
   "outputs": [
    {
     "name": "stdout",
     "output_type": "stream",
     "text": [
      "Имя: Алиса, Возраст: 20, Курс: 3\n",
      "Алиса учится на специальности Программная инженерия.\n",
      "Алиса сдает экзамен.\n",
      "Имя: Боб, Возраст: 24, Курс: 2\n",
      "Боб учится.\n",
      "Боб сдает экзамен под руководством Доктора Смита.\n",
      "Имя: Чарли, Возраст: 28, Курс: 4\n",
      "Чарли работает над диссертацией на тему Искусственный интеллект.\n",
      "Чарли сдает экзамен.\n"
     ]
    }
   ],
   "source": [
    "class Student\n",
    "{\n",
    "    public string Name { get; set; }\n",
    "    public int Age { get; set; }\n",
    "    public int Course { get; set; }\n",
    "\n",
    "    public Student(string name, int age, int course)\n",
    "    {\n",
    "        Name = name;\n",
    "        Age = age;\n",
    "        Course = course;\n",
    "    }\n",
    "    public virtual void GetInfo()\n",
    "    {\n",
    "        Console.WriteLine ($\"Имя: {Name}, Возраст: {Age}, Курс: {Course}\");\n",
    "    }\n",
    "    public virtual void Study()\n",
    "    {\n",
    "        Console.WriteLine($\"{Name} учится.\");\n",
    "    }\n",
    "\n",
    "    public virtual void TakeExam()\n",
    "    {\n",
    "        Console.WriteLine($\"{Name} сдает экзамен.\");\n",
    "    }\n",
    "}\n",
    "class BachelorStudent : Student\n",
    "{\n",
    "    public string Specialty { get; set; }\n",
    "\n",
    "    public BachelorStudent(string name, int age, int course, string specialty)\n",
    "        : base(name, age, course)\n",
    "    {\n",
    "        Specialty = specialty;\n",
    "    }\n",
    "\n",
    "    public override void Study()\n",
    "    {\n",
    "        Console.WriteLine($\"{Name} учится на специальности {Specialty}.\");\n",
    "    }\n",
    "}\n",
    "class MasterStudent : Student\n",
    "{\n",
    "    public string ScientificAdvisor { get; set; }\n",
    "\n",
    "    public MasterStudent(string name, int age, int course, string scientificAdvisor)\n",
    "        : base(name, age, course)\n",
    "    {\n",
    "        ScientificAdvisor = scientificAdvisor;\n",
    "    }\n",
    "\n",
    "    public override void TakeExam()\n",
    "    {\n",
    "        Console.WriteLine($\"{Name} сдает экзамен под руководством {ScientificAdvisor}.\");\n",
    "    }\n",
    "}\n",
    "class PhDStudent : Student\n",
    "{\n",
    "    public string DissertationTopic { get; set; }\n",
    "\n",
    "    public PhDStudent(string name, int age, int course, string dissertationTopic)\n",
    "        : base(name, age, course)\n",
    "    {\n",
    "        DissertationTopic = dissertationTopic;\n",
    "    }\n",
    "\n",
    "    public override void Study()\n",
    "    {\n",
    "        Console.WriteLine($\"{Name} работает над диссертацией на тему {DissertationTopic}.\");\n",
    "    }\n",
    "}\n",
    "Student bachelor = new BachelorStudent(\"Алиса\", 20, 3, \"Программная инженерия\");\n",
    "Student master = new MasterStudent(\"Боб\", 24, 2, \"Доктора Смита\");\n",
    "Student phd = new PhDStudent(\"Чарли\", 28, 4, \"Искусственный интеллект\");\n",
    "\n",
    "bachelor.GetInfo();\n",
    "bachelor.Study();\n",
    "bachelor.TakeExam();\n",
    "\n",
    "master.GetInfo();\n",
    "master.Study();\n",
    "master.TakeExam();\n",
    "\n",
    "phd.GetInfo();\n",
    "phd.Study();\n",
    "phd.TakeExam();"
   ]
  }
 ],
 "metadata": {
  "kernelspec": {
   "display_name": ".NET (C#)",
   "language": "C#",
   "name": ".net-csharp"
  },
  "polyglot_notebook": {
   "kernelInfo": {
    "defaultKernelName": "csharp",
    "items": [
     {
      "aliases": [],
      "languageName": "csharp",
      "name": "csharp"
     }
    ]
   }
  }
 },
 "nbformat": 4,
 "nbformat_minor": 2
}
